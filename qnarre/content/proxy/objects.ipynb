{
 "cells": [
  {
   "cell_type": "markdown",
   "metadata": {},
   "source": [
    "# Psychological Non-Profiles Of American Bar \"Frequent Fliers\""
   ]
  },
  {
   "cell_type": "markdown",
   "metadata": {},
   "source": [
    "The American \"Divorce Corp.\" is an alleged ~$50B+ [\"industry\"](https://www.divorcecorp.com/). As with any current \"be stunned, be shocked and pay attention to me\" activist movement, it is hard to know what is true and what is for-profit manipulation behind the linked movie.\n",
    "\n",
    "Nevertheless, the American Bar Association, Section of Family Law, seemingly acknowledges the existence of [\"frequent fliers\"](https://www.americanbar.org/content/dam/aba/events/family_law/2014/05/section_of_familylawspringcleconference/11_fri_custody.authcheckdam.pdf), as the effectively and reliably \"churning\" 10%, the **astronomically profitable \"high-conflict\" 10%**, of their overall yearly \"business\".\n",
    "\n",
    "*Quiz: When more than half of American families get divorced and the ABA-licensed/protected lawyers literally and endlessly \"milk\" 10% of those cases for a profit of ~$50B / year, how many innocent and endlessly tortured American children does that involve?*\n",
    "\n",
    "Sadly, the ABA and the lawyers also acknowledge that this profitable business of theirs is **chronically and sadistically child abusive**. Nevertheless, perhaps inspired by the [Fundamental Theorem of Software Engineering](https://en.wikipedia.org/wiki/Fundamental_theorem_of_software_engineering), the \"elite\" child abusive lawyers quickly learned that \"we can solve any problem by introducing an extra level of indirection\".\n",
    "\n",
    "And they started to formally, with the ABA's apparent blessing, blame their victims, the confused, but otherwise clearly capable and well-off-by-necessity parents, with woo-doo science sound-bites: *\"the parents in conflict tend to be more preoccupied with their own identity reconstruction\"*.\n",
    "\n",
    "And per the always successful \"indirection\" strategy of avoiding blame, they formed a mutually beneficial alliance with the:\n",
    "- \"no skin in the game\", i.e. [**not a medical doctor**](https://en.wikipedia.org/wiki/Hippocratic_Oath),\n",
    "- \"science sounding dogma\", i.e. [**not scientifically repeatable**, reproducible nor falsifiable](https://www.theatlantic.com/science/archive/2018/11/psychologys-replication-crisis-real/576223/) and\n",
    "- hence [**\"absolute judicial immunity\"**](https://www.law.com/ctlawtribune/2019/01/14/absolute-immunity-shields-lawyer-sued-over-guardian-ad-litem-role-appeals-court-rules/?slreturn=20190627150712) practitioners.\n",
    "\n",
    "Namely, the lawyers work seemingly exclusively with [Guardian Ad Litems](https://femfas.net/family_tragedy/ma_gal.html) and/or psychologists. Specifically, they work with the psychologists who have a license, with seemingly absolutely no oversight, to arbitrarily and maliciously profile [half of society](https://owlcation.com/social-sciences/What-Judges-Need-to-Know-About-Narcissistic-Personality-Disorder-in-Custody-Cases) with indefensible allegations, i.e. dogmatic scare-tactics and ruthlessly child abusive manipulations. \n",
    "\n",
    "Supported by the ABA-sponsored \"frequent flier\" label, the psychologists claim: *\"The NPD will bring a plethora of legal actions that barely make sense or are fully nonsense. They will often burn through attorneys. They will have a history of multiple PFA’s against them. **If they are male (and most are)**, they may have multiple custody issues with multiple women.\"*\n",
    "\n",
    "It is not surprising that in the personally experienced European tyrannies (e.g. socialism, communism), studying psychology was only allowed to the members of the secret police and the vast masses of informants.\n",
    "\n",
    "Once you control the psychology, you control the person just as Joseph Stalin's associate claimed [**\"Show me the man and I’ll find you the crime\"**](https://www.cato.org/policy-report/januaryfebruary-2010/criminalization-almost-everything): *\"In his foreword to my book, Alan Dershowitz discusses his time litigating cases in the old Soviet Union. He was always taken by the fact that they could prosecute anybody they wanted because some of the statutes were so vague\"*."
   ]
  },
  {
   "cell_type": "markdown",
   "metadata": {},
   "source": [
    "Finally getting back to our blog, we now focus on **indirectly** \"fabricated conflicts\". Our second goal is to train our computer to \"catch a chain of falsities\" by systematically finding indirect, through a second arithmetic expression in this blog, irrefutable textual contradictions in our inputs.\n",
    "\n",
    "Once again, we have already too much accumulated code to load into our notebook. For your refence, we sample from the attached local source files: *datasets.py, layers.py, main.py, modules.py, samples.py, tasks.py, trafo.py* and *utils.py*."
   ]
  },
  {
   "cell_type": "markdown",
   "metadata": {},
   "source": [
    "Our previous blog has already generated the necessary `small` set of  samples.\n",
    "\n",
    "If you have not run the code yet, please follow that blog to generate samples. You will get an error if you attempt to run this code without available samples.\n",
    "\n",
    "In this blog we focus on `yes-no-extended` (YNX) and `masked-extended` (MSX) samples. Here is how we can generate a few samples:"
   ]
  },
  {
   "cell_type": "code",
   "execution_count": 3,
   "metadata": {},
   "outputs": [
    {
     "name": "stdout",
     "output_type": "stream",
     "text": [
      "{'enc': 'x=-35,y=-64;y-x[-29]', 'dec': 'y=-7,x=$;y-x[22]|_', 'tgt': 'y=-7,x=$;y-x[22]|1'}\n",
      "{'enc': 'x=-35,y=-64;y-x[-29]', 'dec': 'y=-7,x??????[2?]|', 'tgt': 'y=-7,x=$;y-x[22]|'}\n",
      "{'enc': 'y=40,x=23;x-y[-17]', 'dec': 'y=-61,x=$;x-y[62]|_', 'tgt': 'y=-61,x=$;x-y[44]|0'}\n",
      "{'enc': 'y=40,x=23;x-y[-17]', 'dec': '?=?61?x?$?x-?[?4]|', 'tgt': 'y=-61,x=$;x-y[44]|'}\n"
     ]
    }
   ],
   "source": [
    "import samples as qs\n",
    "\n",
    "groups = tuple('yns ynx msk msx cls clx qas rev gen fix'.split())\n",
    "\n",
    "YNS, YNX, MSK, MSX, CLS, CLX, QAS, REV, GEN, FIX = groups\n",
    "\n",
    "import utils as qu\n",
    "\n",
    "ps = dict(\n",
    "    dim_pool=3,\n",
    "    max_val=100,\n",
    "    num_samples=2,\n",
    ")\n",
    "ps = qu.Params(**ps)\n",
    "\n",
    "for d in qs.sampler(ps):\n",
    "    print(f'{d[YNX]}')\n",
    "    print(f'{d[MSX]}')"
   ]
  },
  {
   "cell_type": "markdown",
   "metadata": {},
   "source": [
    "We only show the YNX and MSX groups of samples. They are similar to our previous YNS and MSK samples in objective.\n",
    "\n",
    "Their scope is expanded however. The YNX samples introduce \"indirection\" into the learned, inherent \"knowledge\" as it uses 2 expressions, the second one building on, or reusing, the first one's result.\n",
    "\n",
    "Either of the expressions' results can be incorrect. And after training, the computer will have to effectively perform chained deduction to get the `yes-no` answer right.\n",
    "\n",
    "The MSX samples also two expressions. And instead of `masking` only a homogenous result, these samples randomly mask the entire second expression.\n",
    "\n",
    "As the masked expression uses the result of the first one, the above mentioned \"indirection\" is once again in play.    "
   ]
  },
  {
   "cell_type": "markdown",
   "metadata": {},
   "source": [
    "We have mentioned already that we are largely reusing the model, specifically its layers and modules, from the first section of our blogs.\n",
    "\n",
    "In this blog we provide more details of the necessary changes in the layers.\n",
    "\n",
    "We start with a significant change in our `Layer` base-class, as we have started to support the Keras `get_config` method. We are now able to recreate our layers from checkpoints.\n",
    "\n",
    "In `utils.py` we extend our `Params` class with a new `Config` class that encapsulates the actually persisted param values:"
   ]
  },
  {
   "cell_type": "code",
   "execution_count": 1,
   "metadata": {},
   "outputs": [],
   "source": [
    "class Params:\n",
    "    def __init__(self, **kw):\n",
    "        for k, v in kw.items():\n",
    "            setattr(self, k, v)\n",
    "\n",
    "    def cfg_items(self, *keys):\n",
    "        for k in keys:\n",
    "            yield k, getattr(self, k, None)\n",
    "\n",
    "\n",
    "class Config(Params):\n",
    "    runtime = Params(is_training=True, print_toks=False)\n",
    "\n",
    "    def __init__(self, **kw):\n",
    "        super().__init__(**kw)\n",
    "        self._items = kw.items()\n",
    "\n",
    "    def items(self):\n",
    "        return self._items"
   ]
  },
  {
   "cell_type": "markdown",
   "metadata": {},
   "source": [
    "Using our new `Config`, we add support for the Keras \"config\" mechanism in `Layer`:"
   ]
  },
  {
   "cell_type": "code",
   "execution_count": 3,
   "metadata": {},
   "outputs": [],
   "source": [
    "import tensorflow as tf\n",
    "ks = tf.keras\n",
    "ki = ks.initializers\n",
    "\n",
    "class Layer(ks.layers.Layer):\n",
    "    initer = None\n",
    "\n",
    "    @staticmethod\n",
    "    def cfg_items(ps):\n",
    "        yield from ps.cfg_items('initer_stddev', )\n",
    "\n",
    "    @classmethod\n",
    "    def from_config(cls, cfg):\n",
    "        return cls(qu.Config(**cfg))\n",
    "\n",
    "    def __init__(self, ps, **kw):\n",
    "        kw.setdefault('name', qu.to_snake_case(type(self).__name__))\n",
    "        kw.setdefault('dtype', tf.float32)\n",
    "        super().__init__(**kw)\n",
    "        if isinstance(ps, qu.Config):\n",
    "            self.cfg = ps\n",
    "        else:\n",
    "            self.cfg = qu.Config(**dict(self.cfg_items(ps)))\n",
    "        cfg = self.cfg\n",
    "        if cfg.initer_stddev:\n",
    "            self.initer = ki.TruncatedNormal(stddev=cfg.initer_stddev)\n",
    "\n",
    "    def get_config(self):\n",
    "        b = super().get_config().items()\n",
    "        c = self.cfg.items()\n",
    "        return dict(list(b) + list(c))"
   ]
  },
  {
   "cell_type": "markdown",
   "metadata": {},
   "source": [
    "To demonstrate how only necessary params get saved for each layer, we provide a fragment of the already presented `Frames` class below.\n",
    "\n",
    "The rest of the class, as well as the derived `Tokens` and `Meta` classes are mostly unchanged.\n",
    "\n",
    "The only significant difference is that we have started to use the attached instance of the `Config` class instead of the previously used bare `Params`:"
   ]
  },
  {
   "cell_type": "code",
   "execution_count": 4,
   "metadata": {},
   "outputs": [],
   "source": [
    "class Frames(Layer):\n",
    "    def __init__(self, ps):\n",
    "        super().__init__(ps, dtype=tf.int32)\n",
    "        s = [self.cfg.dim_batch, self.cfg.width_enc]\n",
    "        kw = dict(initializer='zeros', trainable=False, use_resource=True)\n",
    "        self.prev = self.add_weight('prev', s, **kw)\n",
    "\n",
    "    def cfg_items(self, ps):\n",
    "        yield from super().cfg_items(ps)\n",
    "        yield from ps.cfg_items(\n",
    "            'dim_batch',\n",
    "            'dim_hist',\n",
    "            'width_dec',\n",
    "            'width_enc',\n",
    "        )"
   ]
  },
  {
   "cell_type": "markdown",
   "metadata": {},
   "source": [
    "Another addition to the layers in this blog is the addition of `input_signatures` to the `call` methods' `tf.function` definitions.\n",
    "\n",
    "Since we keep a tight control of the shapes of our \"transfer\" tensors, there is no need for TF to unnecessarily generate Python code.\n",
    "\n",
    "We provide the partial `Decode` class example to illustrate this addition:"
   ]
  },
  {
   "cell_type": "code",
   "execution_count": 5,
   "metadata": {},
   "outputs": [],
   "source": [
    "class Decode(Layer):\n",
    "    @tf.function(input_signature=[[\n",
    "        tf.TensorSpec(shape=[None, None, None]),\n",
    "        tf.TensorSpec(shape=[None], dtype=tf.int32),\n",
    "        tf.TensorSpec(shape=[None, None, None])\n",
    "    ]])\n",
    "    def call(self, x):\n",
    "        y, ye = x[:-1], x[-1]\n",
    "        for dec in self.decs:\n",
    "            y = dec(y + [ye])\n",
    "        return y"
   ]
  },
  {
   "cell_type": "markdown",
   "metadata": {},
   "source": [
    "We have also added a new layer to specifically help with the MSK and MSX samples.\n",
    "\n",
    "The new `Deduce` layer provides us with a graph op to conditionally loop through all the masked, by the `?` token, input positions and one-by-one deduce the target tokens.\n",
    "\n",
    "The loops obviously are driven by the actual number of masked positions in the individual batches of samples. So loop control needs to be executed by the synthesized graph op.\n",
    "\n",
    "A partial definition of the class follows:"
   ]
  },
  {
   "cell_type": "code",
   "execution_count": 6,
   "metadata": {},
   "outputs": [],
   "source": [
    "class Deduce(Layer):\n",
    "    def __init__(self, ps, embed, decode):\n",
    "        super().__init__(ps)\n",
    "        self.embed = embed\n",
    "        self.decode = decode\n",
    "        s = [self.cfg.dim_hidden, self.cfg.dim_vocab]\n",
    "        self.inflate = qm.Dense(self, 'inflate', s)\n",
    "\n",
    "    @tf.function\n",
    "    def call(self, x):\n",
    "        toks, *x = x\n",
    "        if self.cfg.runtime.print_toks:\n",
    "            qu.print_toks(toks, qd.vocab)\n",
    "        y = self.deduce([toks] + x)\n",
    "        n = tf.shape(y)[1]\n",
    "        p = tf.shape(toks)[1] - n\n",
    "        for i in tf.range(n):\n",
    "            t = toks[:, :n]\n",
    "            m = tf.equal(t, qd.MSK)\n",
    "            if tf.equal(tf.reduce_any(m), True):\n",
    "                t = self.update(t, m, y)\n",
    "                if self.cfg.runtime.print_toks:\n",
    "                    qu.print_toks(t, qd.vocab)\n",
    "                toks = tf.pad(t, [[0, 0], [0, p]])\n",
    "                y = self.deduce([toks] + x)\n",
    "            else:\n",
    "                e = tf.equal(t, qd.EOS)\n",
    "                e = tf.math.count_nonzero(e, axis=1)\n",
    "                if tf.equal(tf.reduce_any(tf.not_equal(e, 1)), False):\n",
    "                    break\n",
    "        return y\n",
    "\n",
    "    def deduce(self, x):\n",
    "        y = self.embed(x[:-1])\n",
    "        y, lens = self.decode(y + x[-1:])\n",
    "        y = self.inflate(y)\n",
    "        y = tf.RaggedTensor.from_tensor(y, lens).to_tensor()\n",
    "        return y\n",
    "\n",
    "    def update(self, toks, msks, ctx):\n",
    "        i = tf.cast(msks, tf.int32)\n",
    "        i = tf.argmax(i, axis=1, output_type=tf.int32)\n",
    "        n = tf.shape(msks)[0]\n",
    "        i = tf.stack([tf.range(n), i], axis=1)\n",
    "        m = tf.zeros_like(msks)\n",
    "        m = tf.tensor_scatter_nd_update(m, i, tf.ones([n], tf.bool))\n",
    "        y = tf.boolean_mask(ctx, m)\n",
    "        y = tf.math.log_softmax(y)\n",
    "        y = tf.argmax(y, axis=-1, output_type=tf.int32)\n",
    "        y = tf.tensor_scatter_nd_update(toks, i, y)\n",
    "        y = tf.where(tf.logical_and(msks, m), y, toks)\n",
    "        return y"
   ]
  },
  {
   "cell_type": "markdown",
   "metadata": {},
   "source": [
    "The code above depends on references to the `embed` and `decode` layers, as it has to actively a) `deduce` the new token and b) \"re-decode\" the context in the `update` method.\n",
    "\n",
    "The loop is initially set to execute for every token in the width of the input context.\n",
    "\n",
    "Nevertheless, if there are no `qd.MSK`, or \"?\", tokens and we have reached our `qd.EOS`, or \"|\", token for every row on the batch, we end the loop.\n",
    "\n",
    "With these changes in the code, we can adjust the groups of samples we want to train on, to YNX and MSX, and run the previously presented steps. We skip re-running the training sessions until the last \"unifying\" blog in this section.\n",
    "\n",
    "This concludes our blog, please click on the next blog for further details of the additional changes."
   ]
  }
 ],
 "metadata": {
  "kernelspec": {
   "display_name": "Python (.qpy)",
   "language": "python",
   "name": "qpy"
  },
  "language_info": {
   "codemirror_mode": {
    "name": "ipython",
    "version": 3
   },
   "file_extension": ".py",
   "mimetype": "text/x-python",
   "name": "python",
   "nbconvert_exporter": "python",
   "pygments_lexer": "ipython3",
   "version": "3.7.3"
  }
 },
 "nbformat": 4,
 "nbformat_minor": 2
}
