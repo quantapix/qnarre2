{
 "cells": [
  {
   "cell_type": "markdown",
   "metadata": {},
   "source": [
    "# Conceptual Model Of An \"Emotional\" Domain"
   ]
  },
  {
   "cell_type": "markdown",
   "metadata": {},
   "source": [
    "We are only concerned with textual data stored electronically. A `source` is thus our generic unit of representation throughout the problem domain.\n",
    "\n",
    "The `evidence` is the exhaustive collection of all the `doc`s we need to consider, organized hierarchically as individual `source`s.\n",
    "\n",
    "Ultimately, it all comes down to working with text fragments, or `claims`, with their various interconnected and even overlapping properties and attributes.\n",
    "\n",
    "We formalize these and define:\n",
    "\n",
    "| Term         | Definition                         | Properties                               |\n",
    "| ---          | ---                                | ---                                      |\n",
    "| **Source**   | digitized content stored in a file | type (e.g. pdf, jpg, email, text)        |\n",
    "| **Evidence** | a hierarchy of considered Sources  | root (directory)                         |\n",
    "| **Doc**      | paginated, flat textual Evidence   | name (date), genre, author, title, pages |\n",
    "| **Genre**    | the \"officialness\" of a Doc        | name                                     |\n",
    "| **Place**    | a specific location in a Doc       | doc, page, para(graph)                   |\n",
    "| **Claim**    | a Placed relevant text fragment    | text, place, credibility                 |"
   ]
  },
  {
   "cell_type": "markdown",
   "metadata": {},
   "source": [
    "The `author` of a `doc` of implicitly related set of `claim`s can be a party, a lawyer or a judge, for example.\n",
    "\n",
    "Accordingly, we define:\n",
    "\n",
    "| Term          | Definition                            | Properties                           |\n",
    "| ---           | ---                                   | ---                                  |\n",
    "| **Author**    | an author of Docs of Claims           | name, title                          |\n",
    "| **Agent**     | a to be believed professional         | kind (of profession)                 |\n",
    "| **Authority** | a trusted Agent of an official agency | agency (institution or 'sworn self') |"
   ]
  },
  {
   "cell_type": "markdown",
   "metadata": {},
   "source": [
    "A `claim` can be grouped into `topic`s and attached to `narrative`s. Such groupings and assignments are done based on the semantic meaning of the claim, as well as of the context the claim belongs to.\n",
    "\n",
    "| Term          | Definition                                    | Properties  |\n",
    "| ---           | ---                                           | ---         |\n",
    "| **Topic**     | a relevant/dominant subject matter of Claims  | name        |\n",
    "| **Narrative** | a thematically focused \"slice\" through Claims | name, topic |"
   ]
  },
  {
   "cell_type": "markdown",
   "metadata": {},
   "source": [
    "More importantly, `claim`s are further categorized as follows.\n",
    "\n",
    "The objective is to either compute a generalizing `credibility` for the claim or to derive other reproducible conjectures, regarding the related claims. \n",
    "\n",
    "| Term           | Definition                                                | Properties       |\n",
    "| ---            | ---                                                       | ---              |\n",
    "| **Node**       | a generic grouping of Claim(s) along thematic dimensions  | topic, narrative |\n",
    "| **Proof**      | a readily verifiable, undisputed Claim from an Authority  | claim, authority |\n",
    "| **Conjecture** | a logical inference from Proofs guided by thematic Claims | proofs, claims   |\n",
    "| **Reality**    | a broad-based, reinforcing Conjecture                     | coherence        |\n",
    "| **Dissent**    | a narrow, fragmenting and thus weakening Conjecture       | fragmentation    |"
   ]
  },
  {
   "cell_type": "markdown",
   "metadata": {},
   "source": [
    "While a broad `reality` is \"simple\", as in hard to characterize any further, a narrow `dissent` is much richer in \"character\".\n",
    " \n",
    "We break down `dissent`s into self-explanatory types, with increasing factors of their fragmenting effects.\n",
    "\n",
    "These are:\n",
    "\n",
    "| Term                | Definition                                                       |\n",
    "| ---                 | ---                                                              |\n",
    "| **Misreading**      | seemingly unintentionally misinterpreted relevant claims         |\n",
    "| **Fairness**        | neglected or refused to consider both claim and counterclaim     |\n",
    "| **Negligence**      | reported relevant and damaging information in a careless manner  |\n",
    "| **Proportionality** | neglected or refused to report in balanced/proportional manner   |\n",
    "| **Contradiction**   | neglected or refused to state apparent inconsistency or conflict |\n",
    "| **Isolation**       | neglected or refused to consider relevant and essential context  |\n",
    "| **Omission**        | neglected or refused to report disclosed relevant information    |\n",
    "| **Distortion**      | reported relevant information in a suggestive and biased manner  |"
   ]
  },
  {
   "cell_type": "markdown",
   "metadata": {},
   "source": [
    "A special type of claim is a `conflict`.\n",
    "\n",
    "Its purpose is to directly contradict a `reality` and thus to manipulate a subsequent `judgment`. As the most important objects in modeling a lawsuit, `conflict`s are at the center of our attention.\n",
    "\n",
    "The ultimate goal of our modeling efforts is to arrive at a mechanism to extract a semantic \"conflict graph\" in a reproducible fashion.    \n",
    "\n",
    "| Term         | Definition                                                 | Properties           |\n",
    "| ---          | ---                                                        | ---                  |\n",
    "| **Conflict** | a Claim intended to fabricate/escalate bases for Judgments | claim, reality       |\n",
    "| **Suborn**   | a false Claim caused by Agent as intentional perjury       | (agent's) agency     |\n",
    "| **Repeat**   | variant of a conflict aimed at reinforcing intended effect | claim, conflict      |\n",
    "| **Judgment** | a thematic conjecture by Authority over inflated Conflicts | conflicts, authority |\n",
    "| **Activism** | a thematic pattern of conjectures by Authority             | judgments, authority |"
   ]
  },
  {
   "cell_type": "markdown",
   "metadata": {},
   "source": [
    "Once again, revealing, and even actively fabricating, conflicts is the objective of lawsuits.\n",
    "\n",
    "We categorize conflicts along their increasing fragmenting effect on realities: \n",
    "\n",
    "| Term         | Definition                                                       |\n",
    "| ---          | ---                                                              |\n",
    "| **Inherent** | emphasized inherent contradictions to confuse judgment           |\n",
    "| **Conceal**  | intentionally concealed relevant truths to affect judgment       |\n",
    "| **Deceive**  | intentionally emphasized relevant half-truths to affect judgment |\n",
    "| **Fraud**    | stated intentionally falsified relevant and crucial information  |\n",
    "| **Extort**   | stated relevant and threatening claims to force money or \"fees\"  |"
   ]
  },
  {
   "cell_type": "markdown",
   "metadata": {},
   "source": [
    "The judgments of lawsuits represent the net effect of all claimed conflicts.\n",
    "\n",
    "If a `judgment` relies predominantly on perhaps fabricated conflicts, or is simply prejudiced by them, while actively overruling realities, it causes `turmoil`.\n",
    "\n",
    "The types of judgments we consider in increasing `turmoil` effect is as follows: \n",
    "\n",
    "| Term            | Definition                                                         |\n",
    "| ---             | ---                                                                |\n",
    "| **Validation**  | selection and judgment of conflicts refuting an inflated Conflict  |\n",
    "| **Confusion**   | selection and judgment of conflicts leading to clear contradiction |\n",
    "| **Bias**        | selection and judgment of conflicts satisfying a prior narrative   |\n",
    "| **Disregard**   | avoidance of relevant conflicts while protecting a prior narrative |\n",
    "| **Fabrication** | injection of disputable conjecture to reinforce a prior narrative  |"
   ]
  },
  {
   "cell_type": "markdown",
   "metadata": {},
   "source": [
    "When considering multiple judgment claims, a pattern, or a trend, can possibly be established.\n",
    "\n",
    "During processing, when our calculations support such \"judicial\" patterns, `activism`s emerge.\n",
    "\n",
    "We define the following `activism` categories in increasing effect of their `turmoil` factor:\n",
    "\n",
    "| Term           | Definition                                            |\n",
    "| ---            | ---                                                   |\n",
    "| **Exclude**    | a pattern of excluding undesired realities            |\n",
    "| **Insinuate**  | a pattern of insinuating desired \"realities\"          |\n",
    "| **Polarize**   | a pattern of deepening fabricated conflicts           |\n",
    "| **Recast**     | a pattern of re-interpreting realities                |\n",
    "| **Elevate**    | a pattern of elevating desired \"realities\"            |\n",
    "| **Victimize**  | a pattern of repeatedly causing suffering             |\n",
    "| **Exploit**    | a pattern of repeatedly preying on the defenseless    |\n",
    "| **Perpetuate** | a pattern of reinforcing the repetition of unfairness |"
   ]
  },
  {
   "cell_type": "markdown",
   "metadata": {},
   "source": [
    "This blog introduced the most essential \"framing\" concepts of our model. A subsequent blog will define the precise analytical, or quantitatively measurable, properties of these elements."
   ]
  }
 ],
 "metadata": {
  "kernelspec": {
   "display_name": "Python 3",
   "language": "python",
   "name": "python3"
  },
  "language_info": {
   "codemirror_mode": {
    "name": "ipython",
    "version": 3
   },
   "file_extension": ".py",
   "mimetype": "text/x-python",
   "name": "python",
   "nbconvert_exporter": "python",
   "pygments_lexer": "ipython3",
   "version": "3.7.3"
  }
 },
 "nbformat": 4,
 "nbformat_minor": 2
}
